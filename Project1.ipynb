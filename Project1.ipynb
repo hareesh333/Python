{
 "cells": [
  {
   "cell_type": "code",
   "execution_count": 1,
   "id": "39daeeab-3582-4596-bec5-34da9af65287",
   "metadata": {},
   "outputs": [
    {
     "data": {
      "text/plain": [
       "True"
      ]
     },
     "execution_count": 1,
     "metadata": {},
     "output_type": "execute_result"
    }
   ],
   "source": [
    "from dotenv import load_dotenv,find_dotenv\n",
    "load_dotenv(find_dotenv(),override=True)"
   ]
  },
  {
   "cell_type": "code",
   "execution_count": 4,
   "id": "cd7f691b-b5d5-4657-a96e-edcd0ef6ac33",
   "metadata": {},
   "outputs": [],
   "source": [
    "from langchain.chat_models import ChatOpenAI\n",
    "from langchain.schema import SystemMessage\n",
    "from langchain.chains import LLMChain\n",
    "from langchain.prompts import ChatPromptTemplate,HumanMessagePromptTemplate"
   ]
  },
  {
   "cell_type": "code",
   "execution_count": 8,
   "id": "6cfeca65-e0aa-4e16-9225-88a53db46134",
   "metadata": {},
   "outputs": [
    {
     "name": "stdin",
     "output_type": "stream",
     "text": [
      "Your prompt:  tell me about prompt in large language model\n"
     ]
    },
    {
     "name": "stdout",
     "output_type": "stream",
     "text": [
      "\n",
      "\n",
      "\u001b[1m> Entering new LLMChain chain...\u001b[0m\n",
      "Prompt after formatting:\n",
      "\u001b[32;1m\u001b[1;3mSystem: You respond only in German.\n",
      "Human: tell me about prompt in large language model\u001b[0m\n",
      "\n",
      "\u001b[1m> Finished chain.\u001b[0m\n",
      "Ein \"Prompt\" in einem großen Sprachmodell bezieht sich auf den Ausgangstext oder die Anfangsphrase, die ein Benutzer eingibt, um eine Antwort oder Vervollständigung vom Modell zu erhalten. Das Modell verwendet den Prompt, um den Kontext der gewünschten Information zu verstehen und basierend darauf eine Antwort zu generieren. Indem der Benutzer einen geeigneten Prompt bereitstellt, kann er die Qualität und Relevanz der Antwort des Modells beeinflussen. Ein gutes Verständnis der Funktionsweise von Prompts kann daher dazu beitragen, präzisere und hilfreichere Antworten aus dem Sprachmodell zu erhalten.\n",
      "--------------------------------------------------\n"
     ]
    },
    {
     "name": "stdin",
     "output_type": "stream",
     "text": [
      "Your prompt:  quit\n"
     ]
    },
    {
     "name": "stdout",
     "output_type": "stream",
     "text": [
      "Goodbye!\n"
     ]
    }
   ],
   "source": [
    "llm=ChatOpenAI(model='gpt-3.5-turbo',temperature=1)\n",
    "prompt = ChatPromptTemplate(\n",
    "    input_variables=[\"content\"],\n",
    "    messages=[\n",
    "        SystemMessage(content='You respond only in english.'),\n",
    "        HumanMessagePromptTemplate.from_template(\"{content}\")\n",
    "    ]\n",
    ")\n",
    "\n",
    "chain = LLMChain(\n",
    "    llm=llm,\n",
    "    prompt=prompt,\n",
    "    verbose=True\n",
    ")\n",
    "\n",
    "while True:\n",
    "    content = input('Your prompt: ')\n",
    "    if content.lower() in ['quit', 'exit', 'bye']:\n",
    "        print('Goodbye!')\n",
    "        break\n",
    "    \n",
    "    response = chain.run({'content': content})\n",
    "    print(response)\n",
    "    print('-' * 50)\n",
    "                   \n",
    "    "
   ]
  },
  {
   "cell_type": "code",
   "execution_count": null,
   "id": "c450e3e2-6d5b-461d-9b1c-98f7e863faf1",
   "metadata": {},
   "outputs": [
    {
     "name": "stdin",
     "output_type": "stream",
     "text": [
      "Your prompt:  is going office is mandotary \n"
     ]
    },
    {
     "name": "stdout",
     "output_type": "stream",
     "text": [
      "It depends on your specific workplace policies and job requirements. In some cases, going to the office may be mandatory, while in others, working remotely may be allowed. It's best to check with your employer to see what their current expectations are regarding office attendance.\n",
      "--------------------------------------------------\n"
     ]
    },
    {
     "name": "stdin",
     "output_type": "stream",
     "text": [
      "Your prompt:  which mobiles are best now a days?\n"
     ]
    },
    {
     "name": "stdout",
     "output_type": "stream",
     "text": [
      "There are many great mobile phones available nowadays, and the \"best\" one would depend on your personal preferences and needs. Some popular options that are highly rated include the iPhone 13 series, Samsung Galaxy S21 series, Google Pixel 6 series, and OnePlus 9 series. It's important to consider factors such as budget, operating system preference (iOS vs. Android), camera quality, battery life, and overall features when choosing a mobile phone. I recommend doing some research and reading reviews to find the best option for you.\n",
      "--------------------------------------------------\n"
     ]
    },
    {
     "name": "stdin",
     "output_type": "stream",
     "text": [
      "Your prompt:  what is the cost of samsung galaxy s21 mobile\n"
     ]
    },
    {
     "name": "stdout",
     "output_type": "stream",
     "text": [
      "The cost of the Samsung Galaxy S21 can vary depending on the storage capacity and whether you purchase it unlocked or through a carrier. As of now, the price for a new Samsung Galaxy S21 starts at around $799 for the base model with 128GB of storage. However, prices may fluctuate due to promotions, discounts, or new models being released.\n",
      "\n",
      "It's always a good idea to check with retailers or Samsung's official website for the most up-to-date pricing information.\n",
      "--------------------------------------------------\n"
     ]
    }
   ],
   "source": [
    "from dotenv import load_dotenv, find_dotenv\n",
    "load_dotenv(find_dotenv(), override=False) \n",
    "\n",
    "from langchain.chat_models import ChatOpenAI\n",
    "from langchain.schema import SystemMessage\n",
    "from langchain.chains import LLMChain\n",
    "\n",
    "# 1. Imports\n",
    "from langchain.memory import ConversationBufferMemory\n",
    "from langchain.prompts import ChatPromptTemplate, HumanMessagePromptTemplate, MessagesPlaceholder\n",
    "\n",
    "\n",
    "llm = ChatOpenAI(model_name='gpt-3.5-turbo', temperature=1)\n",
    "\n",
    "# 2. Create memory \n",
    "memory = ConversationBufferMemory(\n",
    "    memory_key='chat_history',\n",
    "    return_messages=True\n",
    ")\n",
    "\n",
    "# 3. add  MessagesPlaceholder(variable_name='messages') to the prompt\n",
    "prompt = ChatPromptTemplate(\n",
    "    input_variables=[\"content\", \"chat_history\"],\n",
    "    messages=[\n",
    "        SystemMessage(content=\"You are a chatbot having a conversation with a human.\"),\n",
    "        MessagesPlaceholder(variable_name=\"chat_history\"), # Where the memory will be stored.\n",
    "        HumanMessagePromptTemplate.from_template(\"{content}\")\n",
    "    ]\n",
    ")\n",
    "\n",
    "# 4. Add the memory to the chain\n",
    "chain = LLMChain(\n",
    "    llm=llm,\n",
    "    prompt=prompt,\n",
    "    memory=memory,\n",
    "    verbose=False\n",
    ")\n",
    "\n",
    "while True:\n",
    "    content = input('Your prompt: ')\n",
    "    if content.lower() in ['quit', 'exit', 'bye']:\n",
    "        print('Goodbye!')\n",
    "        break\n",
    "    \n",
    "    response = chain.run({'content': content})\n",
    "    print(response)\n",
    "    print('-' * 50)\n",
    "    "
   ]
  },
  {
   "cell_type": "code",
   "execution_count": null,
   "id": "b4203b79-87a0-49fe-af8f-1885320a4831",
   "metadata": {},
   "outputs": [],
   "source": []
  },
  {
   "cell_type": "code",
   "execution_count": null,
   "id": "7c7120da-19c0-430b-a0c7-ed1a9872cd39",
   "metadata": {},
   "outputs": [],
   "source": []
  },
  {
   "cell_type": "code",
   "execution_count": null,
   "id": "e01c2424-17ec-48e7-a323-f3040013b8b8",
   "metadata": {},
   "outputs": [],
   "source": []
  },
  {
   "cell_type": "code",
   "execution_count": null,
   "id": "806ca55f-0fad-4852-a997-374a7d9eae8a",
   "metadata": {},
   "outputs": [],
   "source": []
  },
  {
   "cell_type": "code",
   "execution_count": null,
   "id": "a0d888be-c8ee-4da2-b262-624781b446b2",
   "metadata": {},
   "outputs": [],
   "source": []
  }
 ],
 "metadata": {
  "kernelspec": {
   "display_name": "Python 3 (ipykernel)",
   "language": "python",
   "name": "python3"
  },
  "language_info": {
   "codemirror_mode": {
    "name": "ipython",
    "version": 3
   },
   "file_extension": ".py",
   "mimetype": "text/x-python",
   "name": "python",
   "nbconvert_exporter": "python",
   "pygments_lexer": "ipython3",
   "version": "3.10.12"
  }
 },
 "nbformat": 4,
 "nbformat_minor": 5
}
